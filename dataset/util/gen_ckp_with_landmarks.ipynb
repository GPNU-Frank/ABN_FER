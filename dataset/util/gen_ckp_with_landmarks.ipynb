{
 "metadata": {
  "language_info": {
   "codemirror_mode": {
    "name": "ipython",
    "version": 3
   },
   "file_extension": ".py",
   "mimetype": "text/x-python",
   "name": "python",
   "nbconvert_exporter": "python",
   "pygments_lexer": "ipython3",
   "version": "3.8.3-final"
  },
  "orig_nbformat": 2,
  "kernelspec": {
   "name": "python_defaultSpec_1599131969343",
   "display_name": "Python 3.8.3 64-bit ('base': conda)"
  }
 },
 "nbformat": 4,
 "nbformat_minor": 2,
 "cells": [
  {
   "cell_type": "code",
   "execution_count": 32,
   "metadata": {},
   "outputs": [],
   "source": [
    "import pickle\n",
    "import os\n",
    "from PIL import Image\n",
    "import cv2\n",
    "import dlib\n",
    "import numpy as np\n",
    "import face_recognition\n",
    "import matplotlib.pyplot as plt"
   ]
  },
  {
   "cell_type": "code",
   "execution_count": 2,
   "metadata": {},
   "outputs": [],
   "source": [
    "data_path = '../../data/ckp_with_img_geometry_106.pkl'\n",
    "if not os.path.isfile(data_path):\n",
    "    raise FileNotFoundError()\n",
    "with open(data_path, 'rb') as f:\n",
    "    data = pickle.load(f)"
   ]
  },
  {
   "cell_type": "code",
   "execution_count": 39,
   "metadata": {
    "tags": []
   },
   "outputs": [
    {
     "output_type": "stream",
     "name": "stdout",
     "text": "309\n"
    }
   ],
   "source": [
    "cnt = 0\n",
    "for i in range(10):\n",
    "    cnt += len(data[i]['labels'])\n",
    "print(cnt)"
   ]
  },
  {
   "cell_type": "code",
   "execution_count": 3,
   "metadata": {
    "tags": []
   },
   "outputs": [
    {
     "output_type": "stream",
     "name": "stdout",
     "text": "<class 'numpy.ndarray'>\n"
    }
   ],
   "source": [
    "print(type(data[0]['img'][0]))\n",
    "# img = cv2.cvtColor(data[0]['img'][0], cv2.COLOR_RGB2GRAY)\n",
    "cv2.namedWindow('img', 2)\n",
    "cv2.imshow('img', data[0]['img'][0])\n",
    "cv2.waitKey(0)\n",
    "cv2.destroyAllWindows()"
   ]
  },
  {
   "cell_type": "code",
   "execution_count": 8,
   "metadata": {},
   "outputs": [],
   "source": [
    "landmarks_mat_path = '../../resource/shape_predictor_68_face_landmarks.dat'\n",
    "save_path = '../../data/ck+_contains_imgs_landmarks.pickle'\n",
    "detector = dlib.get_frontal_face_detector()\n",
    "predictor = dlib.shape_predictor(landmarks_mat_path)\n",
    "def precess_image(img):\n",
    "    rects = detector(img, 0)\n",
    "    print(type(rects))\n",
    "    landmarks = np.matrix([[p.x, p.y] for p in predictor(img, img).parts()])\n",
    "    points = []\n",
    "    for idx, point in enumerate(landmarks):\n",
    "        # 68点的坐标\n",
    "        pos = (point[0, 0], point[0, 1])\n",
    "        points.append(np.array(pos))\n",
    "\n",
    "        # 利用cv2.circle给每个特征点画一个圈，共68个\n",
    "        cv2.circle(img, pos, 2, color=(0, 255, 0))\n",
    "        # 利用cv2.putText输出1-68\n",
    "        font = cv2.FONT_HERSHEY_SIMPLEX\n",
    "        cv2.putText(img, str(idx + 1), pos, font, 0.1, (0, 0, 255), 0, cv2.LINE_AA)\n",
    "    \n",
    "    # 裁剪图片\n",
    "    # (x, y, w, h) = rect_to_bbox(rects[i])\n",
    "    # img = img[y: y + h, x: x + w]\n",
    "# landmark 的边\n",
    "# neighbor_edges = [(0, 1), (1, 2), (2, 3), (3, 4), (4, 5), (5, 6), (6, 7), (7, 8), (8, 9), (9, 10),\n",
    "# (10, 11), (11,12), (12, 13), (13, 14), (14, 15), (15, 16),  # 轮廓\n",
    "# (17, 18), (18, 19), (19, 20), (20, 21), (36, 37), (37, 38), (38, 39), (39, 40), (40, 41), (41, 37),  # 左眼\n",
    "# ]\n",
    "\n",
    "    points = np.stack(points[17:], axis=1)     \n",
    "    return points\n",
    "\n",
    "    # 展示\n",
    "    # cv2.namedWindow(\"img\", 2)\n",
    "    # cv2.imshow(\"img\", img)\n",
    "    # cv2.waitKey(0)\n",
    "    # cv2.destroyAllWindows()"
   ]
  },
  {
   "cell_type": "code",
   "execution_count": 36,
   "metadata": {},
   "outputs": [],
   "source": [
    "def precess_image_(img):\n",
    "    landmarks = face_recognition.face_landmarks(img, model='large')\n",
    "    points = []\n",
    "    if len(landmarks) < 1:\n",
    "        print(landmarks)\n",
    "        plt.imshow(img, cmap='gray')\n",
    "    print(landmarks[0])\n",
    "    for key, val in landmarks[0].items():\n",
    "        if key != 'chin':\n",
    "            points.extend(val)\n",
    "    return points"
   ]
  },
  {
   "cell_type": "code",
   "execution_count": 37,
   "metadata": {
    "tags": []
   },
   "outputs": [
    {
     "output_type": "stream",
     "name": "stdout",
     "text": "{'chin': [(-1, 36), (-2, 53), (-1, 70), (2, 87), (8, 102), (16, 116), (28, 128), (42, 134), (60, 137), (77, 135), (93, 130), (107, 120), (117, 106), (124, 89), (128, 72), (130, 54), (130, 37)], 'left_eyebrow': [(2, 9), (12, 2), (25, 2), (38, 5), (50, 11)], 'right_eyebrow': [(74, 11), (87, 4), (102, 0), (116, 2), (127, 11)], 'nose_bridge': [(61, 25), (61, 37), (61, 50), (61, 62)], 'nose_tip': [(46, 72), (53, 74), (61, 76), (69, 75), (76, 72)], 'left_eye': [(11, 29), (20, 22), (31, 23), (41, 30), (31, 33), (20, 33)], 'right_eye': [(82, 31), (93, 23), (104, 23), (113, 30), (105, 34), (93, 34)], 'top_lip': [(37, 104), (44, 92), (54, 87), (61, 89), (68, 87), (78, 93), (86, 105), (81, 104), (68, 96), (61, 96), (54, 96), (41, 104)], 'bottom_lip': [(86, 105), (78, 118), (68, 123), (60, 124), (52, 123), (43, 117), (37, 104), (41, 104), (53, 110), (60, 111), (68, 110), (81, 104)]}\n55\n"
    }
   ],
   "source": [
    "lm = precess_image_(data[0]['img'][0])\n",
    "print(len(lm))"
   ]
  },
  {
   "cell_type": "code",
   "execution_count": 38,
   "metadata": {
    "tags": []
   },
   "outputs": [
    {
     "output_type": "stream",
     "name": "stdout",
     "text": "{'chin': [(-1, 36), (-2, 53), (-1, 70), (2, 87), (8, 102), (16, 116), (28, 128), (42, 134), (60, 137), (77, 135), (93, 130), (107, 120), (117, 106), (124, 89), (128, 72), (130, 54), (130, 37)], 'left_eyebrow': [(2, 9), (12, 2), (25, 2), (38, 5), (50, 11)], 'right_eyebrow': [(74, 11), (87, 4), (102, 0), (116, 2), (127, 11)], 'nose_bridge': [(61, 25), (61, 37), (61, 50), (61, 62)], 'nose_tip': [(46, 72), (53, 74), (61, 76), (69, 75), (76, 72)], 'left_eye': [(11, 29), (20, 22), (31, 23), (41, 30), (31, 33), (20, 33)], 'right_eye': [(82, 31), (93, 23), (104, 23), (113, 30), (105, 34), (93, 34)], 'top_lip': [(37, 104), (44, 92), (54, 87), (61, 89), (68, 87), (78, 93), (86, 105), (81, 104), (68, 96), (61, 96), (54, 96), (41, 104)], 'bottom_lip': [(86, 105), (78, 118), (68, 123), (60, 124), (52, 123), (43, 117), (37, 104), (41, 104), (53, 110), (60, 111), (68, 110), (81, 104)]}\n{'chin': [(-2, 33), (-2, 51), (-1, 70), (1, 87), (7, 103), (16, 117), (28, 127), (44, 133), (62, 134), (80, 134), (97, 130), (111, 121), (122, 108), (127, 90), (129, 71), (131, 52), (132, 33)], 'left_eyebrow': [(-1, 12), (9, 1), (23, -2), (38, -1), (51, 5)], 'right_eyebrow': [(72, 5), (88, 0), (104, -1), (118, 5), (127, 16)], 'nose_bridge': [(62, 20), (62, 34), (62, 49), (62, 63)], 'nose_tip': [(47, 73), (54, 76), (62, 78), (71, 76), (79, 73)], 'left_eye': [(13, 23), (22, 19), (32, 19), (43, 24), (33, 26), (23, 26)], 'right_eye': [(82, 25), (94, 19), (104, 20), (113, 24), (104, 26), (94, 26)], 'top_lip': [(38, 99), (49, 96), (57, 94), (63, 96), (70, 94), (80, 96), (92, 99), (88, 99), (70, 98), (63, 99), (57, 98), (41, 99)], 'bottom_lip': [(92, 99), (81, 103), (71, 105), (64, 105), (57, 105), (48, 103), (38, 99), (41, 99), (57, 98), (63, 99), (70, 98), (88, 99)]}\n{'chin': [(-3, 29), (-2, 46), (-1, 63), (0, 79), (4, 96), (13, 110), (26, 123), (42, 131), (61, 134), (80, 132), (98, 124), (111, 112), (121, 96), (127, 80), (128, 62), (129, 45), (130, 27)], 'left_eyebrow': [(-1, 13), (8, 3), (21, 1), (34, 2), (48, 6)], 'right_eyebrow': [(75, 6), (88, 1), (103, 0), (117, 3), (127, 12)], 'nose_bridge': [(61, 19), (61, 35), (62, 50), (62, 66)], 'nose_tip': [(45, 70), (53, 73), (62, 77), (72, 73), (80, 70)], 'left_eye': [(12, 23), (21, 18), (32, 18), (42, 25), (32, 25), (21, 25)], 'right_eye': [(81, 25), (92, 18), (102, 18), (111, 23), (102, 25), (92, 26)], 'top_lip': [(25, 85), (39, 83), (53, 83), (63, 85), (74, 83), (88, 83), (102, 86), (98, 87), (74, 88), (63, 90), (52, 88), (30, 87)], 'bottom_lip': [(102, 86), (89, 105), (74, 113), (62, 114), (51, 112), (37, 103), (25, 85), (30, 87), (52, 102), (63, 104), (74, 103), (98, 87)]}\n{'chin': [(-4, 28), (-2, 47), (-1, 66), (2, 85), (9, 102), (19, 117), (32, 128), (48, 132), (65, 134), (80, 132), (93, 125), (104, 113), (112, 98), (117, 82), (122, 65), (125, 47), (126, 30)], 'left_eyebrow': [(2, 9), (13, 1), (25, 0), (38, 1), (50, 7)], 'right_eyebrow': [(81, 7), (92, 2), (103, -1), (115, 1), (124, 9)], 'nose_bridge': [(66, 23), (66, 33), (66, 43), (66, 54)], 'nose_tip': [(52, 63), (59, 65), (66, 67), (72, 65), (79, 63)], 'left_eye': [(16, 25), (25, 19), (35, 19), (45, 27), (35, 28), (24, 29)], 'right_eye': [(83, 27), (93, 19), (104, 20), (112, 25), (104, 29), (94, 29)], 'top_lip': [(40, 93), (48, 82), (59, 77), (65, 79), (72, 77), (81, 82), (88, 93), (84, 93), (72, 84), (65, 85), (59, 84), (44, 93)], 'bottom_lip': [(88, 93), (82, 107), (72, 114), (65, 115), (57, 114), (47, 108), (40, 93), (44, 93), (58, 102), (65, 103), (72, 102), (84, 93)]}\n[]\n"
    },
    {
     "output_type": "error",
     "ename": "IndexError",
     "evalue": "list index out of range",
     "traceback": [
      "\u001b[1;31m---------------------------------------------------------------------------\u001b[0m",
      "\u001b[1;31mIndexError\u001b[0m                                Traceback (most recent call last)",
      "\u001b[1;32m<ipython-input-38-9d39f101cdcd>\u001b[0m in \u001b[0;36m<module>\u001b[1;34m\u001b[0m\n\u001b[0;32m      3\u001b[0m     \u001b[0mdata\u001b[0m\u001b[1;33m[\u001b[0m\u001b[0mf_num\u001b[0m\u001b[1;33m]\u001b[0m\u001b[1;33m[\u001b[0m\u001b[1;34m'landmark'\u001b[0m\u001b[1;33m]\u001b[0m \u001b[1;33m=\u001b[0m \u001b[1;33m[\u001b[0m\u001b[1;33m]\u001b[0m\u001b[1;33m\u001b[0m\u001b[1;33m\u001b[0m\u001b[0m\n\u001b[0;32m      4\u001b[0m     \u001b[1;32mfor\u001b[0m \u001b[0mimg\u001b[0m \u001b[1;32min\u001b[0m \u001b[0mdata\u001b[0m\u001b[1;33m[\u001b[0m\u001b[0mf_num\u001b[0m\u001b[1;33m]\u001b[0m\u001b[1;33m[\u001b[0m\u001b[1;34m'img'\u001b[0m\u001b[1;33m]\u001b[0m\u001b[1;33m:\u001b[0m\u001b[1;33m\u001b[0m\u001b[1;33m\u001b[0m\u001b[0m\n\u001b[1;32m----> 5\u001b[1;33m         \u001b[0mpoints\u001b[0m \u001b[1;33m=\u001b[0m \u001b[0mprecess_image_\u001b[0m\u001b[1;33m(\u001b[0m\u001b[0mimg\u001b[0m\u001b[1;33m)\u001b[0m\u001b[1;33m\u001b[0m\u001b[1;33m\u001b[0m\u001b[0m\n\u001b[0m\u001b[0;32m      6\u001b[0m         \u001b[0mdata\u001b[0m\u001b[1;33m[\u001b[0m\u001b[0mf_num\u001b[0m\u001b[1;33m]\u001b[0m\u001b[1;33m[\u001b[0m\u001b[1;34m'landmark'\u001b[0m\u001b[1;33m]\u001b[0m\u001b[1;33m.\u001b[0m\u001b[0mappend\u001b[0m\u001b[1;33m(\u001b[0m\u001b[0mpoints\u001b[0m\u001b[1;33m)\u001b[0m\u001b[1;33m\u001b[0m\u001b[1;33m\u001b[0m\u001b[0m\n",
      "\u001b[1;32m<ipython-input-36-ef8719d1851c>\u001b[0m in \u001b[0;36mprecess_image_\u001b[1;34m(img)\u001b[0m\n\u001b[0;32m      5\u001b[0m         \u001b[0mprint\u001b[0m\u001b[1;33m(\u001b[0m\u001b[0mlandmarks\u001b[0m\u001b[1;33m)\u001b[0m\u001b[1;33m\u001b[0m\u001b[1;33m\u001b[0m\u001b[0m\n\u001b[0;32m      6\u001b[0m         \u001b[0mplt\u001b[0m\u001b[1;33m.\u001b[0m\u001b[0mimshow\u001b[0m\u001b[1;33m(\u001b[0m\u001b[0mimg\u001b[0m\u001b[1;33m,\u001b[0m \u001b[0mcmap\u001b[0m\u001b[1;33m=\u001b[0m\u001b[1;34m'gray'\u001b[0m\u001b[1;33m)\u001b[0m\u001b[1;33m\u001b[0m\u001b[1;33m\u001b[0m\u001b[0m\n\u001b[1;32m----> 7\u001b[1;33m     \u001b[0mprint\u001b[0m\u001b[1;33m(\u001b[0m\u001b[0mlandmarks\u001b[0m\u001b[1;33m[\u001b[0m\u001b[1;36m0\u001b[0m\u001b[1;33m]\u001b[0m\u001b[1;33m)\u001b[0m\u001b[1;33m\u001b[0m\u001b[1;33m\u001b[0m\u001b[0m\n\u001b[0m\u001b[0;32m      8\u001b[0m     \u001b[1;32mfor\u001b[0m \u001b[0mkey\u001b[0m\u001b[1;33m,\u001b[0m \u001b[0mval\u001b[0m \u001b[1;32min\u001b[0m \u001b[0mlandmarks\u001b[0m\u001b[1;33m[\u001b[0m\u001b[1;36m0\u001b[0m\u001b[1;33m]\u001b[0m\u001b[1;33m.\u001b[0m\u001b[0mitems\u001b[0m\u001b[1;33m(\u001b[0m\u001b[1;33m)\u001b[0m\u001b[1;33m:\u001b[0m\u001b[1;33m\u001b[0m\u001b[1;33m\u001b[0m\u001b[0m\n\u001b[0;32m      9\u001b[0m         \u001b[1;32mif\u001b[0m \u001b[0mkey\u001b[0m \u001b[1;33m!=\u001b[0m \u001b[1;34m'chin'\u001b[0m\u001b[1;33m:\u001b[0m\u001b[1;33m\u001b[0m\u001b[1;33m\u001b[0m\u001b[0m\n",
      "\u001b[1;31mIndexError\u001b[0m: list index out of range"
     ]
    }
   ],
   "source": [
    "folds = 10\n",
    "for f_num in range(folds):\n",
    "    data[f_num]['landmark'] = []\n",
    "    for img in data[f_num]['img']:\n",
    "        points = precess_image_(img)\n",
    "        data[f_num]['landmark'].append(points)"
   ]
  },
  {
   "cell_type": "code",
   "execution_count": 10,
   "metadata": {
    "tags": []
   },
   "outputs": [
    {
     "output_type": "stream",
     "name": "stdout",
     "text": "26 26\n29 29\n30 30\n33 33\n35 35\n31 31\n31 31\n32 32\n31 31\n31 31\n"
    }
   ],
   "source": [
    "for f_num in range(folds):\n",
    "    print(len(data[f_num]['img']), len(data[f_num]['landmark']))"
   ]
  },
  {
   "cell_type": "code",
   "execution_count": 11,
   "metadata": {
    "tags": []
   },
   "outputs": [
    {
     "output_type": "stream",
     "name": "stdout",
     "text": "None\nNone\nNone\nNone\nNone\nNone\nNone\nNone\nNone\nNone\nNone\n[[  1  10  25  40  53  79  93 107 121 128  67  68  69  70  52  60  69  77\n   84  16  26  37  47  37  26  85  96 106 115 107  96  41  50  61  69  78\n   91  99  92  80  70  61  50  46  61  69  79  96  79  69  61]\n [ 15   3  -2   0   6   4  -1  -2   3  15  21  33  42  52  65  67  69  67\n   65  26  21  21  28  28  28  27  21  21  26  28  28  93  82  77  79  77\n   81  92 107 114 115 115 107  93  85  86  85  92 104 105 104]]\n[[  1   9  23  37  51  73  87 101 115 125  63  63  64  64  49  56  64  72\n   79  16  25  35  45  35  24  83  93 103 111 104  94  35  46  57  63  71\n   83  94  83  71  63  55  45  39  56  63  71  90  71  63  56]\n [ 15   3   1   3   9   9   3   0   1  11  26  39  52  64  75  77  78  77\n   75  30  24  24  32  34  34  32  24  24  30  34  34  99  93  90  92  91\n   94  99 105 109 109 108 105  98  98  99  98  99  99 100  99]]\n[[  1  11  26  40  54  73  87 102 116 126  64  65  65  66  51  58  65  73\n   79  16  25  35  45  35  25  82  93 102 110 103  93  38  50  61  66  72\n   82  92  83  73  66  59  49  43  60  66  73  88  73  66  60]\n [ 10  -1  -3   0   7   8   2  -2  -1  10  24  36  47  59  71  73  74  73\n   71  26  23  23  28  29  30  28  23  24  27  31  30  99  94  90  92  90\n   94  98 107 110 111 110 107  99  97  98  97  99 100 100 100]]\n[[  0  10  25  40  54  74  89 102 116 126  65  65  66  66  49  57  66  74\n   81  16  25  35  45  35  25  82  93 103 111 104  94  37  47  58  65  74\n   85  93  85  74  65  56  46  42  57  65  74  88  74  65  57]\n [ 11   0  -1   2   8   8   2  -2   0   9  26  39  51  64  71  74  76  74\n   72  26  22  23  29  30  29  29  23  23  27  30  30  95  87  84  86  84\n   88  96 103 106 107 106 102  95  92  93  93  96  95  95  94]]\n[[  0   9  24  39  52  74  88 102 116 126  64  64  65  65  49  57  65  73\n   80  16  25  35  45  35  25  82  93 103 111 103  94  31  45  57  65  75\n   88 101  88  76  66  57  44  35  57  65  75  96  75  65  57]\n [ 12   0  -2   1   8   7   0  -2   0  10  25  38  50  63  72  74  76  74\n   72  27  23  23  30  31  31  30  23  23  28  31  32  90  87  86  88  86\n   88  90 101 107 108 107 101  91  94  95  94  91  96  97  96]]\n[[  1  12  27  41  56  73  87 101 116 126  65  66  67  68  53  60  68  75\n   82  18  27  38  47  37  27  84  93 103 112 104  94  42  50  60  68  76\n   88  97  90  78  70  61  50  47  61  69  76  93  78  69  61]\n [ 12   2  -1   2   6   6   2   0   1  11  21  31  41  51  61  63  65  63\n   61  21  17  16  24  25  25  25  17  17  21  25  26  90  79  74  76  74\n   79  90 106 114 115 113 105  90  81  82  82  90 102 103 101]]\nNone\n[[  0  10  25  40  55  70  84  99 114 126  61  61  61  61  46  54  61  69\n   77  12  21  32  42  32  20  83  93 104 113 105  94  34  44  54  61  69\n   80  90  80  70  61  53  44  39  54  61  69  86  69  61  54]\n [ 13   2   0   2   6   6   0  -4  -2   8  25  37  49  61  76  77  78  77\n   76  27  21  21  31  32  32  30  19  19  25  30  31 102  95  91  93  90\n   94 100 107 111 112 111 108 102 100 100  99 100 101 102 102]]\nNone\nNone\nNone\nNone\n[[  1  10  25  40  55  74  89 104 118 127  64  64  64  64  46  55  64  72\n   81  13  22  33  44  33  22  84  94 105 114 106  95  30  42  55  63  73\n   86  98  88  75  64  55  42  35  55  64  73  93  74  64  55]\n [ 18   6   1   2   6   4  -1  -1   2  14  25  36  46  57  69  70  72  70\n   69  30  24  24  32  34  34  32  24  24  30  33  34  98  89  84  86  84\n   89  98 108 112 113 112 108  97  94  95  94  98 101 102 101]]\n[[  2  12  27  43  57  72  86 101 115 124  63  62  62  62  46  54  62  70\n   78  15  24  34  44  34  24  82  93 103 111 104  93  34  45  56  63  72\n   84  95  85  73  64  56  45  39  56  63  72  90  73  64  56]\n [ 18   6   2   2   7   5   1   0   4  15  26  37  48  59  72  73  75  73\n   72  33  27  27  34  36  36  34  27  27  32  35  35  98  91  87  89  87\n   91  98 103 105 106 105 103  97  96  97  96  98  96  97  96]]\n[[  0   8  22  37  51  68  83  99 115 124  59  59  58  58  43  51  58  67\n   76  13  21  31  40  31  21  82  92 102 111 103  92  35  44  53  60  67\n   79  89  79  68  60  53  44  39  53  60  67  86  67  60  53]\n [ 19   6   1   1   6   5  -1  -2   3  15  24  35  46  57  70  72  73  71\n   70  29  25  24  30  31  31  30  23  24  28  31  31  99  90  85  86  85\n   90  99 102 104 104 104 103  98  91  91  90  98  97  98  98]]\n"
    }
   ],
   "source": [
    "for lm in data[0]['landmark']:\n",
    "    print(lm)"
   ]
  },
  {
   "cell_type": "code",
   "execution_count": 15,
   "metadata": {
    "tags": []
   },
   "outputs": [
    {
     "output_type": "stream",
     "name": "stdout",
     "text": "dict_keys(['labels', 'img', 'landmark'])\n"
    }
   ],
   "source": [
    "print(data[0].keys())"
   ]
  },
  {
   "cell_type": "code",
   "execution_count": 16,
   "metadata": {},
   "outputs": [],
   "source": [
    "with open(save_path, 'wb') as pfile:\n",
    "    pickle.dump(\n",
    "        [{\n",
    "            'img': data[i]['img'],\n",
    "            'labels': data[i]['labels'],\n",
    "            'landmark': data[i]['landmark']\n",
    "        } for i in range(folds)],\n",
    "        pfile, pickle.HIGHEST_PROTOCOL\n",
    "    )\n",
    "    "
   ]
  },
  {
   "cell_type": "code",
   "execution_count": 17,
   "metadata": {},
   "outputs": [],
   "source": [
    "with open(save_path, 'rb') as file:\n",
    "    process = pickle.load(file)"
   ]
  },
  {
   "cell_type": "code",
   "execution_count": 18,
   "metadata": {
    "tags": []
   },
   "outputs": [
    {
     "output_type": "stream",
     "name": "stdout",
     "text": "10\n"
    }
   ],
   "source": [
    "print(len(process))"
   ]
  },
  {
   "cell_type": "code",
   "execution_count": 19,
   "metadata": {
    "tags": []
   },
   "outputs": [
    {
     "output_type": "stream",
     "name": "stdout",
     "text": "26 26\n29 29\n30 30\n33 33\n35 35\n31 31\n31 31\n32 32\n31 31\n31 31\n"
    }
   ],
   "source": [
    "for i in range(10):\n",
    "    print(len(process[i]['img']), len(process[i]['landmark']))"
   ]
  }
 ]
}